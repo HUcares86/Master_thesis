{
 "cells": [
  {
   "cell_type": "code",
   "execution_count": 1,
   "id": "e7f51fe5",
   "metadata": {},
   "outputs": [],
   "source": [
    "import numpy as np\n",
    "from tqdm import tqdm, trange\n",
    "import math\n",
    "import cmath\n",
    "import warnings"
   ]
  },
  {
   "cell_type": "code",
   "execution_count": null,
   "id": "5c86cb25",
   "metadata": {},
   "outputs": [],
   "source": []
  },
  {
   "cell_type": "code",
   "execution_count": 2,
   "id": "97bfece6",
   "metadata": {},
   "outputs": [],
   "source": [
    "# fixed parameter\n",
    "S0 = 60\n",
    "K = 50\n",
    "k = math.log(K)\n",
    "r = 0.05\n",
    "q = 0.01\n",
    "\n",
    "# parameters for fft \n",
    "n = 12\n",
    "N = 2**n\n",
    "\n",
    "#step - size\n",
    "eta = 0.25\n",
    "#damping factor\n",
    "alpha = 1.5\n",
    "\n",
    "# step -sixe in log strike space\n",
    "lamda = (2*math.pi/N)/eta\n",
    "\n",
    "# choice. of beta\n",
    "#beta = np.log(S0) - N*lamda/2\n",
    "beta = np.log(K)"
   ]
  },
  {
   "cell_type": "code",
   "execution_count": 22,
   "id": "74ac3463",
   "metadata": {},
   "outputs": [],
   "source": [
    "def get_params(model,num):\n",
    "    params = []\n",
    "    if model == 'GBM':\n",
    "        sig = 0.3\n",
    "        params.append(sig)\n",
    "        return params\n",
    "\n",
    "    elif model == 'VG':   \n",
    "        sig = 0.3\n",
    "        nu = 0.5\n",
    "        theta = -0.4\n",
    "\n",
    "\n",
    "        params.append(sig)\n",
    "        params.append(nu)\n",
    "        params.append(theta)   \n",
    "        return params\n",
    "    elif model == 'Heston':  \n",
    "        kappa = 2.0\n",
    "        theta = -0.4\n",
    "        sig = 0.3\n",
    "        rho = 0.5\n",
    "        v0 = 0.04\n",
    "\n",
    "\n",
    "        params.append(kappa)\n",
    "        params.append(theta)\n",
    "        params.append(sig)\n",
    "        params.append(rho)\n",
    "        params.append(v0)\n",
    "        return params\n",
    "    \n",
    "\n",
    "    elif model == 'Merton_Normal':   \n",
    "        sig = 0.3\n",
    "        poi_lamda = 0.5\n",
    "        mu_normal = 0.8\n",
    "        sig_normal = 0.2\n",
    "\n",
    "        params.append(sig )\n",
    "        params.append(poi_lamda)\n",
    "        params.append(mu_normal)\n",
    "        params.append(sig_normal)\n",
    "        return params\n",
    "\n",
    "    elif model == 'Merton_Double_exp':  \n",
    "\n",
    "\n",
    "        prob = 0.9\n",
    "        sig = 0.3\n",
    "        poi_lamda = 1\n",
    "        \n",
    "        g_alpha_1 = 0.5\n",
    "        g_alpha_2 = 2\n",
    "        k_exp = prob(g_alpha_1/(g_alpha_1-1)) + (1-prob)(g_alpha_2/(g_alpha_2+1))\n",
    "\n",
    "\n",
    "        params.append(prob)\n",
    "        params.append(sig)\n",
    "        params.append(poi_lamda)\n",
    "        params.append(g_alpha_1)\n",
    "        params.append(g_alpha_2)\n",
    "        params.append(g_alpha_2)\n",
    "         params.append(k_exp)\n",
    "    \n",
    "        return params\n",
    "\n",
    "    elif model == 'Merton_Double_gamma': \n",
    "        if num == 1:\n",
    "\n",
    "            prob = 0.9\n",
    "            sig = 0.3\n",
    "            poi_lamda = 1\n",
    "            g_beta_plus = 1.2\n",
    "            g_alpha_plus = 0.5\n",
    "            g_beta_minus = 1.2\n",
    "            g_alpha_minus = 2\n",
    "\n",
    "            params.append(prob)\n",
    "            params.append(sig)\n",
    "            params.append(poi_lamda)\n",
    "            \n",
    "            params.append(g_beta_plus)\n",
    "            params.append(g_alpha_plus)\n",
    "            params.append(g_beta_minus)\n",
    "            params.append(g_alpha_minus)\n",
    "\n",
    "\n",
    "\n",
    "            return params"
   ]
  },
  {
   "cell_type": "code",
   "execution_count": 23,
   "id": "bbc9fa62",
   "metadata": {},
   "outputs": [],
   "source": [
    "params1 = get_params('Merton_Double_gamma',1)"
   ]
  },
  {
   "cell_type": "code",
   "execution_count": 24,
   "id": "3c770ecc",
   "metadata": {},
   "outputs": [
    {
     "data": {
      "text/plain": [
       "[0.9, 1.2, 0.5, 1.2, 2, 0.3, 1]"
      ]
     },
     "execution_count": 24,
     "metadata": {},
     "output_type": "execute_result"
    }
   ],
   "source": [
    "params1 "
   ]
  },
  {
   "cell_type": "code",
   "execution_count": 26,
   "id": "ff652f59",
   "metadata": {},
   "outputs": [],
   "source": [
    "def generic_cf(u, S0, r, q, T, model,num):\n",
    "    if model == \"GBM\":\n",
    "        params = get_params(\"GBM\",num)\n",
    "        sig = params[0]\n",
    "        ln_phi = 1j*(np.log(S0) + (r - q - sig ** 2 / 2) *  T)* u - \\\n",
    "                ((sig * np.sqrt(T)* u) ** 2 ) / 2\n",
    "        cf = np.exp(ln_phi)\n",
    "#             print(cf)\n",
    "\n",
    "        return cf\n",
    "\n",
    "    elif model == \"Heston\":\n",
    "        params = get_params(\"Heston\",num)\n",
    "        kappa = params[0]\n",
    "        theta = params[1]\n",
    "        sig = params[2]\n",
    "        rho = params[3]\n",
    "        v0 = params[4]\n",
    "            \n",
    "        temp1 = kappa - 1j * rho * sig * u\n",
    "        gamma = np.sqrt((sig ** 2) * (u ** 2 + 1j * u) + temp1 ** 2)\n",
    "\n",
    "        pow1 = 2 * kappa * theta / (sig ** 2)\n",
    "        \n",
    "        # number 1\n",
    "        ele1 = (kappa * theta * T * temp1 )/ (sig ** 2)\n",
    "        ele2 = 1j * u * r * T\n",
    "        ele3 = 1j * u * np.log(S0)\n",
    "        numer1 = ele1 + ele2 + ele3\n",
    "            \n",
    "        # log_denum1\n",
    "        dele1 = np.cosh(gamma * T / 2)\n",
    "        dele2 = (temp1 / gamma) * np.sinh(gamma * T / 2)\n",
    "        dele3 = (u ** 2 + 1j * u) * v0\n",
    "        dele3 = gamma / np.tanh(gamma * T / 2)\n",
    "        dele4 = temp1\n",
    "            \n",
    "        log_denum1 = pow1*np.log(dele1)+dele2\n",
    "        temp2 = dele3/(dele3 + dele4)\n",
    "        log_phi = numer1 - log_denum1 - temp2\n",
    "        cf = np.exp(log_phi)\n",
    "        return cf\n",
    "\n",
    "    if model == \"Merton_Normal\": \n",
    "        params = get_params(\"Merton_Normal\",num)\n",
    "        sig= params[0]\n",
    "        poi_lamda= params[1]\n",
    "        mu_normal= params[2]\n",
    "        sig_normal= params[3]\n",
    "        ln_phi = 1j*(np.log(S0) + (r - q - poi_lamda-sig ** 2 / 2) *  T)* u - \\\n",
    "                    ((sig * np.sqrt(T)* u) ** 2 ) / 2 + \\\n",
    "                    poi_lamda*T*( np.exp( 1j*u*mu_normal - ((sig_normal* u) ** 2) / 2 ) - 1)\n",
    "        cf = np.exp(ln_phi)\n",
    "        #             print(cf)\n",
    "\n",
    "        return cf\n",
    "    if model == \"Merton_Double_gamma\":\n",
    "        params = get_params(\"Merton_Double_gamma\",num)\n",
    "        prob= params[0]\n",
    "        g_beta_plus= params[1]\n",
    "        g_alpha_plus= params[2]\n",
    "        g_beta_minus= params[3]\n",
    "        g_alpha_minus= params[4]\n",
    "        sig= params[5]\n",
    "        poi_lamda= params[6]\n",
    "\n",
    "        ln_phi = 1j*(np.log(S0) + (r - q - sig ** 2 / 2) *  T)* u - \\\n",
    "                ((sig * np.sqrt(T)* u) ** 2 ) / 2 + \\\n",
    "                poi_lamda*T*( prob*(1-(1j*u/g_beta_plus)**(-g_alpha_plus)) + (1-prob)*(1+(1j*u/g_beta_minus)**(-g_alpha_minus)) )\n",
    "        cf = np.exp(ln_phi)\n",
    "    #             print(cf)\n",
    "\n",
    "        return cf"
   ]
  },
  {
   "cell_type": "code",
   "execution_count": 27,
   "id": "a58ba890",
   "metadata": {},
   "outputs": [],
   "source": [
    "def evaluate_integral(S0, K, r, q, T, alpha, N, eta, model,num):\n",
    "    df = np.exp(-r*T)\n",
    "    beta = np.log(K)\n",
    "    sum1 = 0\n",
    "    for j in range(N):\n",
    "        nuj = j * eta\n",
    "        tmp1 = alpha + 1j * nuj  \n",
    "        psi_nuJ = df*generic_cf(nuj  - (alpha + 1) * 1j, S0, r, q, T, model,num)/(tmp1 * (tmp1 + 1))\n",
    "        if j == 0:\n",
    "            wj = eta/2\n",
    "        else:\n",
    "            wj = eta\n",
    "        sum1 += np.exp(-1j * beta * nuj )* psi_nuJ*wj\n",
    "    CT_k = (np.exp(-alpha * k) / math.pi)*sum1\n",
    "    \n",
    "    return np.real(CT_k)\n"
   ]
  },
  {
   "cell_type": "code",
   "execution_count": 28,
   "id": "f42490eb",
   "metadata": {},
   "outputs": [],
   "source": [
    " def integrate_CF_Pack_FFT(S0, K, r, q, T, alpha, N, eta, model,num):\n",
    "\n",
    "        sumC0T = 0\n",
    "        lamda = 2 * np.pi / (N * eta)\n",
    "        k = np.log(K)\n",
    "        \n",
    "        # 設定法一： 使km在S0兩側\n",
    "        # beta = np.log(S0) - (N / 2)\n",
    "        \n",
    "        # 設定法二：使km從特定K開始向上加\n",
    "        beta = np.log(K)\n",
    "        # k 改 km\n",
    "        # km = beta + (m - 1) * lda\n",
    "        \n",
    "        km = np.zeros(N)\n",
    "        xX = np.zeros(N)\n",
    "        \n",
    "        #discount factor\n",
    "        df = np.exp(-r*T)\n",
    "        nuJ = np.arange(N)*eta\n",
    "        tmp1 = alpha + 1j * nuJ \n",
    "        psi_nuJ = generic_cf(nuJ - (alpha + 1) * 1j, S0, r, q, T, model,num)/(tmp1 * (tmp1 + 1))\n",
    "        \n",
    "        \n",
    "        # 可向量化\n",
    "        for j in range(N):\n",
    "#             nuj = (j - 1) * eta\n",
    "#             psij = self.psi(nuj, alpha)\n",
    "            km[j] = beta+j*lamda\n",
    "            if j == 0:\n",
    "                wj = eta/2\n",
    "            else:\n",
    "                wj = eta\n",
    "            xX[j] =  np.exp(-1j * beta * nuJ[j])*df*psi_nuJ[j]*wj\n",
    "\n",
    "\n",
    "        yY = np.fft.fft(xX)\n",
    "        CT_km = np.zeros(N)\n",
    "        for i in range(N):\n",
    "            mulTerm = np.exp(-alpha * km[i]) / np.pi\n",
    "            CT_km[i] = mulTerm * np.real(yY[i])\n",
    "            \n",
    "\n",
    "        return km, CT_km\n"
   ]
  },
  {
   "cell_type": "code",
   "execution_count": null,
   "id": "b786c480",
   "metadata": {},
   "outputs": [],
   "source": []
  },
  {
   "cell_type": "code",
   "execution_count": 29,
   "id": "d6a10381",
   "metadata": {},
   "outputs": [
    {
     "name": "stdout",
     "output_type": "stream",
     "text": [
      " \n",
      "--------------------\n",
      "Model is: Merton_Double_gamma\n",
      "[ 3.91202301  3.91815893  3.92429485 ... 29.02635646 29.03249239\n",
      " 29.03862831]\n",
      "[7.45138637e+01 7.38299816e+01 7.31499743e+01 ... 3.24824100e-15\n",
      " 3.21874608e-15 3.18941408e-15]\n",
      "74.51386366208038\n",
      "--------------------\n",
      "74.5138636620804\n"
     ]
    },
    {
     "name": "stderr",
     "output_type": "stream",
     "text": [
      "/var/folders/zl/whn4wn617zx2w7kcvhl0yy5r0000gn/T/ipykernel_2355/708912553.py:34: ComplexWarning: Casting complex values to real discards the imaginary part\n",
      "  xX[j] =  np.exp(-1j * beta * nuJ[j])*df*psi_nuJ[j]*wj\n"
     ]
    }
   ],
   "source": [
    "model = \"Merton_Double_gamma\"\n",
    "print(' ')\n",
    "print('--'*10)\n",
    "print(f'Model is: {model}')\n",
    "T = 1\n",
    "num = 1\n",
    "\n",
    "km, CT_km = integrate_CF_Pack_FFT( S0, K, r, q, T, alpha, N, eta, model,num)\n",
    "print(km)\n",
    "print(CT_km)\n",
    "a = CT_km[0]\n",
    "print(a)\n",
    "print('--'*10)\n",
    "CT_k_1 = evaluate_integral(S0, K, r, q, T, alpha, N, eta, model,num)\n",
    "print(CT_k_1)"
   ]
  },
  {
   "cell_type": "code",
   "execution_count": 31,
   "id": "f0e473de",
   "metadata": {},
   "outputs": [
    {
     "name": "stdout",
     "output_type": "stream",
     "text": [
      " \n",
      "--------------------\n",
      "Model is: Merton_Double_gamma\n"
     ]
    },
    {
     "name": "stderr",
     "output_type": "stream",
     "text": [
      "/var/folders/zl/whn4wn617zx2w7kcvhl0yy5r0000gn/T/ipykernel_2355/1576287637.py:85: RuntimeWarning: divide by zero encountered in log\n",
      "  ln_phi = 1j*(np.log(S0) + (r - q - sig ** 2 / 2) *  T)* u - \\\n"
     ]
    }
   ],
   "source": [
    "print(' ')\n",
    "print('--'*10)\n",
    "print(f'Model is: {model}')\n",
    "\n",
    "T = 1\n",
    "\n",
    "S_array = np.arange(100) \n",
    "CT_k_array = []\n",
    "for S0 in S_array:\n",
    "    CT_k_1 = evaluate_integral(S0, K, r, q, T, alpha, N, eta, model,num)\n",
    "#     print(CT_k_1)\n",
    "    CT_k_array.append(CT_k_1)\n"
   ]
  },
  {
   "cell_type": "code",
   "execution_count": null,
   "id": "3648175f",
   "metadata": {},
   "outputs": [],
   "source": []
  },
  {
   "cell_type": "code",
   "execution_count": 32,
   "id": "6fd9840e",
   "metadata": {},
   "outputs": [
    {
     "data": {
      "text/plain": [
       "[<matplotlib.lines.Line2D at 0x7f9f5068c910>]"
      ]
     },
     "execution_count": 32,
     "metadata": {},
     "output_type": "execute_result"
    },
    {
     "data": {
      "image/png": "[encoded data removed]",
      "text/plain": [
       "<Figure size 432x288 with 1 Axes>"
      ]
     },
     "metadata": {
      "needs_background": "light"
     },
     "output_type": "display_data"
    }
   ],
   "source": [
    "import matplotlib.pyplot as plt\n",
    "\n",
    "\n",
    "fig = plt.figure()\n",
    "plt.plot(S_array, CT_k_array)"
   ]
  },
  {
   "cell_type": "code",
   "execution_count": 30,
   "id": "b81b3c4e",
   "metadata": {},
   "outputs": [
    {
     "data": {
      "text/plain": [
       "[<matplotlib.lines.Line2D at 0x7fcb000cf5b0>]"
      ]
     },
     "execution_count": 30,
     "metadata": {},
     "output_type": "execute_result"
    },
    {
     "data": {
      "image/png": "[encoded data removed]",
      "text/plain": [
       "<Figure size 432x288 with 1 Axes>"
      ]
     },
     "metadata": {
      "needs_background": "light"
     },
     "output_type": "display_data"
    }
   ],
   "source": [
    "fig = plt.figure()\n",
    "plt.plot(CT_km)"
   ]
  },
  {
   "cell_type": "code",
   "execution_count": null,
   "id": "2c0a0657",
   "metadata": {},
   "outputs": [],
   "source": []
  },
  {
   "cell_type": "code",
   "execution_count": null,
   "id": "2b351803",
   "metadata": {},
   "outputs": [],
   "source": []
  },
  {
   "cell_type": "code",
   "execution_count": null,
   "id": "885bcb70",
   "metadata": {},
   "outputs": [],
   "source": []
  },
  {
   "cell_type": "code",
   "execution_count": null,
   "id": "0b8e150f",
   "metadata": {},
   "outputs": [],
   "source": []
  }
 ],
 "metadata": {
  "kernelspec": {
   "display_name": "Python 3 (ipykernel)",
   "language": "python",
   "name": "python3"
  },
  "language_info": {
   "codemirror_mode": {
    "name": "ipython",
    "version": 3
   },
   "file_extension": ".py",
   "mimetype": "text/x-python",
   "name": "python",
   "nbconvert_exporter": "python",
   "pygments_lexer": "ipython3",
   "version": "3.9.7"
  }
 },
 "nbformat": 4,
 "nbformat_minor": 5
}
